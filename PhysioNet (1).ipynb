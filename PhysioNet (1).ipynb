{
  "nbformat": 4,
  "nbformat_minor": 0,
  "metadata": {
    "colab": {
      "provenance": []
    },
    "kernelspec": {
      "name": "python3",
      "display_name": "Python 3"
    },
    "language_info": {
      "name": "python"
    }
  },
  "cells": [
    {
      "cell_type": "code",
      "execution_count": null,
      "metadata": {
        "colab": {
          "base_uri": "https://localhost:8080/"
        },
        "id": "WFq_1WLEKeOb",
        "outputId": "e63f50ad-feed-4a5d-e880-b11ae0c53029"
      },
      "outputs": [
        {
          "output_type": "stream",
          "name": "stdout",
          "text": [
            "Mounted at /content/drive\n"
          ]
        }
      ],
      "source": [
        "import numpy as np\n",
        "from matplotlib import pyplot as plt\n",
        "import pandas as pd\n",
        "import os\n",
        "import re\n",
        "\n",
        "from sklearn.metrics import accuracy_score\n",
        "from sklearn.ensemble import RandomForestClassifier\n",
        "from sklearn.preprocessing import StandardScaler\n",
        "from sklearn.model_selection import train_test_split\n",
        "\n",
        "from google.colab import drive\n",
        "drive.mount(\"/content/drive\")"
      ]
    },
    {
      "cell_type": "code",
      "source": [
        "data_dir = \"/content/drive/MyDrive/PhysioNet.zip (Unzipped Files)/set-a/set-a\"         #change this for your data\n",
        "outcomes_dir = \"/content/drive/MyDrive/PhysioNet.zip (Unzipped Files)/Outcomes-a.txt\"  #also"
      ],
      "metadata": {
        "id": "wfihZzPVMNmL"
      },
      "execution_count": null,
      "outputs": []
    },
    {
      "cell_type": "code",
      "source": [
        "outcomes_df = pd.read_csv(outcomes_dir)\n",
        "outcomes_df.set_index(\"RecordID\", inplace=True)"
      ],
      "metadata": {
        "id": "i8BesbyePkiL"
      },
      "execution_count": null,
      "outputs": []
    },
    {
      "cell_type": "code",
      "source": [
        "CONSTANT_PARAMS = ['Age', 'Gender', 'Height', 'Weight', 'ICUType']\n",
        "VITAL_PARAMS = ['HR', 'NIDiasABP', 'NIMAP', 'NISysABP', 'DiasABP', 'MAP', 'SysABP', 'Temp', 'GCS', 'FiO2', 'MechVent', 'Urine']\n",
        "LAB_PARAMS = ['BUN', 'Creatinine', 'Glucose', 'HCO3', 'HCT', 'Mg', 'Platelets', 'K', 'Na', 'WBC', 'pH', 'PaCO2', 'PaO2']\n",
        "\n",
        "MAX_TIME_STEPS = 100\n",
        "\n",
        "patient_files = [f for f in os.listdir(data_dir) if f.endswith('.txt')]\n",
        "n_patients = len(patient_files)\n",
        "\n",
        "n_constant = len(CONSTANT_PARAMS)\n",
        "n_vital = len(VITAL_PARAMS)\n",
        "n_lab = len(LAB_PARAMS)\n",
        "matrix_4d = np.zeros((n_patients, 3, MAX_TIME_STEPS, max(n_constant, n_vital, n_lab)))\n",
        "\n",
        "for i, file in enumerate(patient_files):\n",
        "    file_name = file.split('.')[0]\n",
        "    record_id = int(re.search(r'\\d+', file_name).group())\n",
        "\n",
        "    df = pd.read_csv(os.path.join(data_dir, file))\n",
        "\n",
        "    constant_data = df[df['Parameter'].isin(CONSTANT_PARAMS)].pivot(index='Time', columns='Parameter', values='Value')\n",
        "    if not constant_data.empty:\n",
        "        constant_data = constant_data.iloc[0:1].reindex(columns=CONSTANT_PARAMS).fillna(0).values\n",
        "        matrix_4d[i, 0, 0, :n_constant] = constant_data\n",
        "\n",
        "    vital_df = df[df['Parameter'].isin(VITAL_PARAMS)].groupby(['Time', 'Parameter'])['Value'].mean().reset_index()\n",
        "    vital_data = vital_df.pivot(index='Time', columns='Parameter', values='Value')\n",
        "    vital_data = vital_data.reindex(columns=VITAL_PARAMS).fillna(0).values\n",
        "    if len(vital_data) > MAX_TIME_STEPS:\n",
        "        vital_data = vital_data[:MAX_TIME_STEPS]\n",
        "    else:\n",
        "        vital_data = np.pad(vital_data, ((0, MAX_TIME_STEPS - len(vital_data)), (0, 0)), mode='constant')\n",
        "    matrix_4d[i, 1, :len(vital_data), :n_vital] = vital_data\n",
        "\n",
        "    lab_df = df[df['Parameter'].isin(LAB_PARAMS)].groupby(['Time', 'Parameter'])['Value'].mean().reset_index()\n",
        "    lab_data = lab_df.pivot(index='Time', columns='Parameter', values='Value')\n",
        "    lab_data = lab_data.reindex(columns=LAB_PARAMS).fillna(0).values\n",
        "    if len(lab_data) > MAX_TIME_STEPS:\n",
        "        lab_data = lab_data[:MAX_TIME_STEPS]\n",
        "    else:\n",
        "        lab_data = np.pad(lab_data, ((0, MAX_TIME_STEPS - len(lab_data)), (0, 0)), mode='constant')\n",
        "    matrix_4d[i, 2, :len(lab_data), :n_lab] = lab_data\n",
        "\n",
        "print(\"Форма 4D-матрицы:\", matrix_4d.shape)"
      ],
      "metadata": {
        "colab": {
          "base_uri": "https://localhost:8080/"
        },
        "id": "ll5NPlXyO1-G",
        "outputId": "6fb9a020-f55b-4b89-a33f-ad32bf592ece"
      },
      "execution_count": null,
      "outputs": [
        {
          "output_type": "stream",
          "name": "stdout",
          "text": [
            "Форма 4D-матрицы: (4000, 3, 100, 13)\n"
          ]
        }
      ]
    },
    {
      "cell_type": "code",
      "source": [
        "from tensorflow.keras.models import Model\n",
        "from tensorflow.keras.layers import Conv1D, MaxPooling1D, LSTM, Dense, Concatenate, Input\n",
        "from sklearn.model_selection import train_test_split"
      ],
      "metadata": {
        "id": "SUvDgb4IjVJp"
      },
      "execution_count": null,
      "outputs": []
    },
    {
      "cell_type": "code",
      "source": [
        "outcomes = pd.read_csv(outcomes_dir)\n",
        "y = outcomes.set_index('RecordID')['In-hospital_death'].reindex([int(re.search(r'\\d+', f.split('.')[0]).group()) for f in patient_files]).values\n",
        "\n",
        "X_train, X_test, y_train, y_test = train_test_split(matrix_4d, y, test_size=0.2, random_state=42)"
      ],
      "metadata": {
        "id": "iULQyHHQkR1V"
      },
      "execution_count": null,
      "outputs": []
    },
    {
      "cell_type": "code",
      "source": [
        "input_const = Input(shape=(MAX_TIME_STEPS, matrix_4d.shape[3]))\n",
        "input_vital = Input(shape=(MAX_TIME_STEPS, matrix_4d.shape[3]))\n",
        "input_lab = Input(shape=(MAX_TIME_STEPS, matrix_4d.shape[3]))\n",
        "\n",
        "conv_const = Conv1D(16, 3, activation='relu')(input_const)\n",
        "pool_const = MaxPooling1D(2)(conv_const)\n",
        "lstm_const = LSTM(16, return_sequences=False)(pool_const)\n",
        "\n",
        "conv_vital = Conv1D(32, 3, activation='relu')(input_vital)\n",
        "pool_vital = MaxPooling1D(2)(conv_vital)\n",
        "lstm_vital = LSTM(64, return_sequences=False)(pool_vital)\n",
        "\n",
        "conv_lab = Conv1D(32, 3, activation='relu')(input_lab)\n",
        "pool_lab = MaxPooling1D(2)(conv_lab)\n",
        "lstm_lab = LSTM(64, return_sequences=False)(pool_lab)\n",
        "\n",
        "concat = Concatenate()([lstm_const, lstm_vital, lstm_lab])\n",
        "dense = Dense(64, activation='relu')(concat)\n",
        "output = Dense(1, activation='sigmoid')(dense)\n",
        "\n",
        "model = Model(inputs=[input_const, input_vital, input_lab], outputs=output)\n",
        "model.compile(optimizer='adam', loss='binary_crossentropy', metrics=['accuracy'])\n",
        "\n",
        "model.fit(\n",
        "    [X_train[:, 0, :, :], X_train[:, 1, :, :], X_train[:, 2, :, :]],\n",
        "    y_train,\n",
        "    epochs=20,\n",
        "    batch_size=32,\n",
        "    validation_data=([X_test[:, 0, :, :], X_test[:, 1, :, :], X_test[:, 2, :, :]], y_test),\n",
        ")"
      ],
      "metadata": {
        "colab": {
          "base_uri": "https://localhost:8080/"
        },
        "id": "AnSSAlccRvpZ",
        "outputId": "7d7b6dfa-73d9-43f4-907b-4e3d70bc0eb6"
      },
      "execution_count": null,
      "outputs": [
        {
          "output_type": "stream",
          "name": "stdout",
          "text": [
            "Epoch 1/20\n",
            "\u001b[1m100/100\u001b[0m \u001b[32m━━━━━━━━━━━━━━━━━━━━\u001b[0m\u001b[37m\u001b[0m \u001b[1m15s\u001b[0m 89ms/step - accuracy: 0.8196 - loss: 0.4742 - val_accuracy: 0.8600 - val_loss: 0.3800\n",
            "Epoch 2/20\n",
            "\u001b[1m100/100\u001b[0m \u001b[32m━━━━━━━━━━━━━━━━━━━━\u001b[0m\u001b[37m\u001b[0m \u001b[1m8s\u001b[0m 70ms/step - accuracy: 0.8583 - loss: 0.3696 - val_accuracy: 0.8600 - val_loss: 0.3825\n",
            "Epoch 3/20\n",
            "\u001b[1m100/100\u001b[0m \u001b[32m━━━━━━━━━━━━━━━━━━━━\u001b[0m\u001b[37m\u001b[0m \u001b[1m9s\u001b[0m 61ms/step - accuracy: 0.8568 - loss: 0.3706 - val_accuracy: 0.8662 - val_loss: 0.3624\n",
            "Epoch 4/20\n",
            "\u001b[1m100/100\u001b[0m \u001b[32m━━━━━━━━━━━━━━━━━━━━\u001b[0m\u001b[37m\u001b[0m \u001b[1m8s\u001b[0m 79ms/step - accuracy: 0.8797 - loss: 0.3400 - val_accuracy: 0.8625 - val_loss: 0.3694\n",
            "Epoch 5/20\n",
            "\u001b[1m100/100\u001b[0m \u001b[32m━━━━━━━━━━━━━━━━━━━━\u001b[0m\u001b[37m\u001b[0m \u001b[1m9s\u001b[0m 62ms/step - accuracy: 0.8716 - loss: 0.3306 - val_accuracy: 0.8650 - val_loss: 0.3651\n",
            "Epoch 6/20\n",
            "\u001b[1m100/100\u001b[0m \u001b[32m━━━━━━━━━━━━━━━━━━━━\u001b[0m\u001b[37m\u001b[0m \u001b[1m10s\u001b[0m 62ms/step - accuracy: 0.8572 - loss: 0.3563 - val_accuracy: 0.8712 - val_loss: 0.3544\n",
            "Epoch 7/20\n",
            "\u001b[1m100/100\u001b[0m \u001b[32m━━━━━━━━━━━━━━━━━━━━\u001b[0m\u001b[37m\u001b[0m \u001b[1m11s\u001b[0m 67ms/step - accuracy: 0.8648 - loss: 0.3334 - val_accuracy: 0.8637 - val_loss: 0.3646\n",
            "Epoch 8/20\n",
            "\u001b[1m100/100\u001b[0m \u001b[32m━━━━━━━━━━━━━━━━━━━━\u001b[0m\u001b[37m\u001b[0m \u001b[1m11s\u001b[0m 80ms/step - accuracy: 0.8769 - loss: 0.3207 - val_accuracy: 0.8675 - val_loss: 0.3730\n",
            "Epoch 9/20\n",
            "\u001b[1m100/100\u001b[0m \u001b[32m━━━━━━━━━━━━━━━━━━━━\u001b[0m\u001b[37m\u001b[0m \u001b[1m9s\u001b[0m 64ms/step - accuracy: 0.8713 - loss: 0.3235 - val_accuracy: 0.8587 - val_loss: 0.3563\n",
            "Epoch 10/20\n",
            "\u001b[1m100/100\u001b[0m \u001b[32m━━━━━━━━━━━━━━━━━━━━\u001b[0m\u001b[37m\u001b[0m \u001b[1m10s\u001b[0m 63ms/step - accuracy: 0.8703 - loss: 0.3352 - val_accuracy: 0.8550 - val_loss: 0.3620\n",
            "Epoch 11/20\n",
            "\u001b[1m100/100\u001b[0m \u001b[32m━━━━━━━━━━━━━━━━━━━━\u001b[0m\u001b[37m\u001b[0m \u001b[1m11s\u001b[0m 67ms/step - accuracy: 0.8814 - loss: 0.3047 - val_accuracy: 0.8650 - val_loss: 0.3507\n",
            "Epoch 12/20\n",
            "\u001b[1m100/100\u001b[0m \u001b[32m━━━━━━━━━━━━━━━━━━━━\u001b[0m\u001b[37m\u001b[0m \u001b[1m11s\u001b[0m 80ms/step - accuracy: 0.8754 - loss: 0.2996 - val_accuracy: 0.8662 - val_loss: 0.3562\n",
            "Epoch 13/20\n",
            "\u001b[1m100/100\u001b[0m \u001b[32m━━━━━━━━━━━━━━━━━━━━\u001b[0m\u001b[37m\u001b[0m \u001b[1m9s\u001b[0m 72ms/step - accuracy: 0.8713 - loss: 0.3159 - val_accuracy: 0.8438 - val_loss: 0.3999\n",
            "Epoch 14/20\n",
            "\u001b[1m100/100\u001b[0m \u001b[32m━━━━━━━━━━━━━━━━━━━━\u001b[0m\u001b[37m\u001b[0m \u001b[1m9s\u001b[0m 61ms/step - accuracy: 0.8820 - loss: 0.2906 - val_accuracy: 0.8413 - val_loss: 0.3688\n",
            "Epoch 15/20\n",
            "\u001b[1m100/100\u001b[0m \u001b[32m━━━━━━━━━━━━━━━━━━━━\u001b[0m\u001b[37m\u001b[0m \u001b[1m10s\u001b[0m 62ms/step - accuracy: 0.8865 - loss: 0.2850 - val_accuracy: 0.8612 - val_loss: 0.3768\n",
            "Epoch 16/20\n",
            "\u001b[1m100/100\u001b[0m \u001b[32m━━━━━━━━━━━━━━━━━━━━\u001b[0m\u001b[37m\u001b[0m \u001b[1m8s\u001b[0m 78ms/step - accuracy: 0.8926 - loss: 0.2780 - val_accuracy: 0.8612 - val_loss: 0.3677\n",
            "Epoch 17/20\n",
            "\u001b[1m100/100\u001b[0m \u001b[32m━━━━━━━━━━━━━━━━━━━━\u001b[0m\u001b[37m\u001b[0m \u001b[1m9s\u001b[0m 62ms/step - accuracy: 0.8870 - loss: 0.2749 - val_accuracy: 0.8512 - val_loss: 0.3644\n",
            "Epoch 18/20\n",
            "\u001b[1m100/100\u001b[0m \u001b[32m━━━━━━━━━━━━━━━━━━━━\u001b[0m\u001b[37m\u001b[0m \u001b[1m10s\u001b[0m 63ms/step - accuracy: 0.8784 - loss: 0.3002 - val_accuracy: 0.8375 - val_loss: 0.3960\n",
            "Epoch 19/20\n",
            "\u001b[1m100/100\u001b[0m \u001b[32m━━━━━━━━━━━━━━━━━━━━\u001b[0m\u001b[37m\u001b[0m \u001b[1m12s\u001b[0m 78ms/step - accuracy: 0.8944 - loss: 0.2652 - val_accuracy: 0.8662 - val_loss: 0.3680\n",
            "Epoch 20/20\n",
            "\u001b[1m100/100\u001b[0m \u001b[32m━━━━━━━━━━━━━━━━━━━━\u001b[0m\u001b[37m\u001b[0m \u001b[1m10s\u001b[0m 75ms/step - accuracy: 0.8820 - loss: 0.2897 - val_accuracy: 0.8450 - val_loss: 0.3888\n"
          ]
        },
        {
          "output_type": "execute_result",
          "data": {
            "text/plain": [
              "<keras.src.callbacks.history.History at 0x7ddb02643150>"
            ]
          },
          "metadata": {},
          "execution_count": 9
        }
      ]
    },
    {
      "cell_type": "code",
      "source": [
        "model.save('/content/drive/MyDrive/PhysioNet_model.h5')"
      ],
      "metadata": {
        "colab": {
          "base_uri": "https://localhost:8080/"
        },
        "id": "A0avccW1SgWW",
        "outputId": "cf25141b-9542-4c95-921a-50134a514b6e"
      },
      "execution_count": null,
      "outputs": [
        {
          "output_type": "stream",
          "name": "stderr",
          "text": [
            "WARNING:absl:You are saving your model as an HDF5 file via `model.save()` or `keras.saving.save_model(model)`. This file format is considered legacy. We recommend using instead the native Keras format, e.g. `model.save('my_model.keras')` or `keras.saving.save_model(model, 'my_model.keras')`. \n"
          ]
        }
      ]
    }
  ]
}